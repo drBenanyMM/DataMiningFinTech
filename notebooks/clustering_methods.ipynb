{
 "cells": [
  {
   "cell_type": "markdown",
   "metadata": {},
   "source": [
    "# Algorithme de Clustering K-Means\n",
    "\n",
    "## Introduction\n",
    "K-Means est un algorithme de clustering largement utilisé en fdata mining pour partitionner un ensemble de données en $𝑘$ clusters. Chaque cluster est défini par son $centroïde$, et l'algorithme attribue itérativement des points aux clusters et met à jour les centroïdes jusqu'à convergence.\n",
    "\n",
    "## Étapes de l'algorithme\n",
    "\n",
    "### Entrées :\n",
    "1. $ X $= $\\{x_1, x_2, \\dots, x_n\\} $: Un ensemble de points de données..\n",
    "2. $ k $: Nombre de clusters.\n",
    "3. $ \\epsilon $: Seuil de convergence.\n",
    "\n",
    "### Sorties :\n",
    "1. $ C = \\{C_1, C_2, \\dots, C_k\\} $: L'ensemble des clusters.\n",
    "2. $ \\mu_1, \\mu_2, \\dots, \\mu_k $: TLes centroïdes des clusters\n",
    "\n",
    "### Pseudo-code:\n",
    "1. **Initialisation**: Initialiser aléatoirement $ k $ centroïdes $ \\mu_1, \\mu_2, \\dots, \\mu_k $.\n",
    "2. **Répéter**:\n",
    "   - **Étape d'assignation**:  \n",
    "     Pour chaque point $ x \\in X $, assigner  $ x $ au cluster $ C_j $ tel que:  \n",
    "     $\n",
    "     j = \\arg\\min_{1 \\leq j \\leq k} \\|x - \\mu_j\\|^2\n",
    "     $\n",
    "   - **Étape de mise à jour**:  \n",
    "     Pour chaque cluster $ C_j $, mettre à jour le centroïde :  \n",
    "     $\n",
    "     \\mu_j \\leftarrow \\frac{1}{|C_j|} \\sum_{x \\in C_j} x\n",
    "     $\n",
    "3. **Jusqu'à**: Convergence des centroïdes (c.-à-d., lorsque le changement des centroïdes est $ \\leq \\epsilon $).\n",
    "\n",
    "\n",
    "### Formulation mathématique\n",
    "L'objectif de K-Means est de minimiser **la somme des carrés intra-cluster (WCSS)** :\n",
    "$\n",
    "J = \\sum_{j=1}^k \\sum_{x \\in C_j} \\|x - \\mu_j\\|^2\n",
    "$\n",
    "Où :\n",
    "- $ \\|x - \\mu_j\\| $ est la distance euclidienne entre le point $ x $ et le centroïde $ \\mu_j $.\n",
    "---"
   ]
  },
  {
   "cell_type": "markdown",
   "metadata": {},
   "source": []
  },
  {
   "cell_type": "code",
   "execution_count": 10,
   "metadata": {},
   "outputs": [],
   "source": [
    "import pandas as pd\n",
    "import matplotlib.pyplot as plt\n",
    "import math"
   ]
  },
  {
   "cell_type": "markdown",
   "metadata": {},
   "source": [
    "# Fonction pour la distance euclidienne"
   ]
  },
  {
   "cell_type": "code",
   "execution_count": 11,
   "metadata": {},
   "outputs": [],
   "source": [
    "def euclidean_distance(point1, point2):\n",
    "    \"\"\"Calculer la distance euclidienne entre deux points.\"\"\"\n",
    "    return math.sqrt((point2[0] - point1[0])**2 + (point2[1] - point1[1])**2)"
   ]
  },
  {
   "cell_type": "markdown",
   "metadata": {},
   "source": [
    "# Charger les données"
   ]
  },
  {
   "cell_type": "code",
   "execution_count": 12,
   "metadata": {},
   "outputs": [],
   "source": [
    "file_path = '../data/exo1.csv'  # Assurez-vous que le fichier exo1.csv est dans le bon répertoire\n",
    "data = pd.read_csv(file_path)"
   ]
  },
  {
   "cell_type": "markdown",
   "metadata": {},
   "source": [
    "# Centroides initiaux (choisis manuellement ou aléatoirement)\n"
   ]
  },
  {
   "cell_type": "code",
   "execution_count": 13,
   "metadata": {},
   "outputs": [],
   "source": [
    "initial_centroids = {\n",
    "    'C1': (2, 10),\n",
    "    'C2': (5, 8),\n",
    "    'C3': (1, 2)\n",
    "}"
   ]
  },
  {
   "cell_type": "code",
   "execution_count": 14,
   "metadata": {},
   "outputs": [],
   "source": [
    "def assign_clusters(data, centroids):\n",
    "    \"\"\"Assigner chaque point au cluster le plus proche.\"\"\"\n",
    "    clusters = []\n",
    "    for _, row in data.iterrows():\n",
    "        distances = {key: euclidean_distance((row['X'], row['Y']), value) for key, value in centroids.items()}\n",
    "        cluster = min(distances, key=distances.get)\n",
    "        clusters.append(cluster)\n",
    "    data['Cluster'] = clusters\n",
    "    return data\n",
    "    "
   ]
  },
  {
   "cell_type": "code",
   "execution_count": 15,
   "metadata": {},
   "outputs": [],
   "source": [
    "def update_centroids(data):\n",
    "    \"\"\"Mettre à jour les centroïdes en calculant la moyenne des points de chaque cluster.\"\"\"\n",
    "    new_centroids = {}\n",
    "    for cluster in data['Cluster'].unique():\n",
    "        cluster_points = data[data['Cluster'] == cluster]\n",
    "        new_x = cluster_points['X'].mean()\n",
    "        new_y = cluster_points['Y'].mean()\n",
    "        new_centroids[cluster] = (new_x, new_y)\n",
    "    return new_centroids"
   ]
  },
  {
   "cell_type": "code",
   "execution_count": 16,
   "metadata": {},
   "outputs": [],
   "source": [
    "def kmeans(data, initial_centroids, max_iterations=10, tolerance=1e-4):\n",
    "    \"\"\"\n",
    "    Implémentation de l'algorithme K-Means.\n",
    "\n",
    "    Paramètres :\n",
    "        - data : pd.DataFrame contenant les colonnes 'X1' et 'X2' représentant les coordonnées des points.\n",
    "        - initial_centroids : dict contenant les centroïdes initiaux (par exemple {'C1': (x1, x2), 'C2': (x2, y2)}).\n",
    "        - max_iterations : int, le nombre maximum d'itérations avant arrêt.\n",
    "        - tolerance : float, seuil de tolérance pour vérifier la convergence.\n",
    "\n",
    "    Retourne :\n",
    "        - data : pd.DataFrame avec les colonnes 'Point', 'X', 'Y', et 'Cluster'.\n",
    "        - centroids : dict contenant les centroïdes finaux.\n",
    "    \"\"\"\n",
    "    centroids = initial_centroids\n",
    "    for i in range(max_iterations):\n",
    "        print(f\"\\nItération {i + 1}\")\n",
    "        data = assign_clusters(data, centroids)\n",
    "        print(data[['Point', 'Cluster']])\n",
    "        \n",
    "        new_centroids = update_centroids(data)\n",
    "        \n",
    "        # Vérifier la convergence\n",
    "        convergence = all(\n",
    "            euclidean_distance(centroids[key], new_centroids[key]) <= tolerance\n",
    "            for key in centroids.keys()\n",
    "        )\n",
    "        \n",
    "        if convergence:\n",
    "            print(\"Convergence atteinte. Les centroïdes ne changent plus.\")\n",
    "            break\n",
    "        \n",
    "        centroids = new_centroids\n",
    "        print(f\"Nouveaux centroïdes : {centroids}\")\n",
    "    \n",
    "    return data, centroids"
   ]
  },
  {
   "cell_type": "code",
   "execution_count": 17,
   "metadata": {},
   "outputs": [
    {
     "name": "stdout",
     "output_type": "stream",
     "text": [
      "\n",
      "Itération 1\n",
      "  Point Cluster\n",
      "0    A1      C1\n",
      "1    A2      C3\n",
      "2    A3      C2\n",
      "3    B1      C2\n",
      "4    B2      C2\n",
      "5    B3      C2\n",
      "6    C1      C3\n",
      "7    C2      C2\n",
      "Nouveaux centroïdes : {'C1': (np.float64(2.0), np.float64(10.0)), 'C3': (np.float64(1.5), np.float64(3.5)), 'C2': (np.float64(6.0), np.float64(6.0))}\n",
      "\n",
      "Itération 2\n",
      "  Point Cluster\n",
      "0    A1      C1\n",
      "1    A2      C3\n",
      "2    A3      C2\n",
      "3    B1      C2\n",
      "4    B2      C2\n",
      "5    B3      C2\n",
      "6    C1      C3\n",
      "7    C2      C1\n",
      "Nouveaux centroïdes : {'C1': (np.float64(3.0), np.float64(9.5)), 'C3': (np.float64(1.5), np.float64(3.5)), 'C2': (np.float64(6.5), np.float64(5.25))}\n",
      "\n",
      "Itération 3\n",
      "  Point Cluster\n",
      "0    A1      C1\n",
      "1    A2      C3\n",
      "2    A3      C2\n",
      "3    B1      C1\n",
      "4    B2      C2\n",
      "5    B3      C2\n",
      "6    C1      C3\n",
      "7    C2      C1\n",
      "Nouveaux centroïdes : {'C1': (np.float64(3.6666666666666665), np.float64(9.0)), 'C3': (np.float64(1.5), np.float64(3.5)), 'C2': (np.float64(7.0), np.float64(4.333333333333333))}\n",
      "\n",
      "Itération 4\n",
      "  Point Cluster\n",
      "0    A1      C1\n",
      "1    A2      C3\n",
      "2    A3      C2\n",
      "3    B1      C1\n",
      "4    B2      C2\n",
      "5    B3      C2\n",
      "6    C1      C3\n",
      "7    C2      C1\n",
      "Convergence atteinte. Les centroïdes ne changent plus.\n"
     ]
    },
    {
     "data": {
      "image/png": "[encoded data removed]",
      "text/plain": [
       "<Figure size 800x600 with 1 Axes>"
      ]
     },
     "metadata": {},
     "output_type": "display_data"
    }
   ],
   "source": [
    "# Exécuter K-Means avec la distance choisie\n",
    "final_data, final_centroids = kmeans(data, initial_centroids)\n",
    "\n",
    "\n",
    "# Visualisation des clusters\n",
    "plt.figure(figsize=(8, 6))\n",
    "\n",
    "# Associer des couleurs aux clusters\n",
    "colors = {'C1': 'red', 'C2': 'blue', 'C3': 'green'}\n",
    "\n",
    "for cluster in final_data['Cluster'].unique():\n",
    "    cluster_data = final_data[final_data['Cluster'] == cluster]\n",
    "    plt.scatter(cluster_data['X'], cluster_data['Y'], color=colors[cluster], label=f'Cluster {cluster}')\n",
    "\n",
    "# Ploter les centroïdes finaux\n",
    "for centroid, coord in final_centroids.items():\n",
    "    plt.scatter(coord[0], coord[1], color='black', marker='X', s=200, label=f'Centroid {centroid}')\n",
    "\n",
    "# Ajouter des labels et une légende\n",
    "plt.title('K-Means Clustering Visualization')\n",
    "plt.xlabel('X1')\n",
    "plt.ylabel('X2')\n",
    "plt.legend()\n",
    "plt.grid()\n",
    "plt.show()"
   ]
  }
 ],
 "metadata": {
  "kernelspec": {
   "display_name": "Python 3",
   "language": "python",
   "name": "python3"
  },
  "language_info": {
   "codemirror_mode": {
    "name": "ipython",
    "version": 3
   },
   "file_extension": ".py",
   "mimetype": "text/x-python",
   "name": "python",
   "nbconvert_exporter": "python",
   "pygments_lexer": "ipython3",
   "version": "3.11.10"
  }
 },
 "nbformat": 4,
 "nbformat_minor": 2
}
